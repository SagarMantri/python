{
 "cells": [
  {
   "cell_type": "markdown",
   "id": "09672b16",
   "metadata": {},
   "source": [
    "# This notebook is for demonstrating the F string "
   ]
  },
  {
   "cell_type": "code",
   "execution_count": 1,
   "id": "a1f3d5ab",
   "metadata": {},
   "outputs": [
    {
     "name": "stdout",
     "output_type": "stream",
     "text": [
      "Please input the nameVirant\n",
      "please input the age36\n",
      "Please input the locationdehli\n",
      "Enter the teamIndia\n",
      "Input your profileBatsmen\n",
      "\n",
      "Below is the Format String example\n",
      "\n",
      " Hi Virant, on this occassion that you are of age 36 and your address is dehli\n"
     ]
    }
   ],
   "source": [
    "name=input(\"Please input the name\")\n",
    "age=input(\"please input the age\")\n",
    "location=input(\"Please input the location\")\n",
    "team=input('Enter the team')\n",
    "profile=input(\"Input your profile\")\n",
    "\n",
    "print('\\nBelow is the Format String example\\n')\n",
    "print(f\"\"\" Hi {name}, on this occassion that you are of age {age} and your address is {location}\"\"\")"
   ]
  },
  {
   "cell_type": "markdown",
   "id": "44a1b7c7",
   "metadata": {},
   "source": []
  },
  {
   "cell_type": "code",
   "execution_count": 3,
   "id": "81906787",
   "metadata": {},
   "outputs": [
    {
     "name": "stdout",
     "output_type": "stream",
     "text": [
      "This is Virant, having an age of 36 and from India and is amazing Batsmen \n",
      "from the beautiful location dehli\n"
     ]
    }
   ],
   "source": [
    "\n",
    "print(f\"\"\"This is {name}, having an age of {age} and from {team} and is amazing {profile} \n",
    "from the beautiful location {location}\"\"\")"
   ]
  }
 ],
 "metadata": {
  "kernelspec": {
   "display_name": "Python 3 (ipykernel)",
   "language": "python",
   "name": "python3"
  },
  "language_info": {
   "codemirror_mode": {
    "name": "ipython",
    "version": 3
   },
   "file_extension": ".py",
   "mimetype": "text/x-python",
   "name": "python",
   "nbconvert_exporter": "python",
   "pygments_lexer": "ipython3",
   "version": "3.11.5"
  }
 },
 "nbformat": 4,
 "nbformat_minor": 5
}
