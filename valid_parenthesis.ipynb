{
 "cells": [
  {
   "cell_type": "markdown",
   "id": "18cfdbfd",
   "metadata": {},
   "source": [
    "# valid parenthesis"
   ]
  },
  {
   "cell_type": "code",
   "execution_count": 7,
   "id": "d5450639",
   "metadata": {},
   "outputs": [
    {
     "data": {
      "text/plain": [
       "False"
      ]
     },
     "execution_count": 7,
     "metadata": {},
     "output_type": "execute_result"
    }
   ],
   "source": [
    "def valid_paranthesis(s: list):\n",
    "    hash_map={')':'(',\"}\":\"{\",\"]\":\"[\"}\n",
    "    stack=[]\n",
    "    \n",
    "    for c in s:\n",
    "        if c not in hash_map:\n",
    "            stack.append(c)\n",
    "        else:\n",
    "            if not stack:\n",
    "                return False\n",
    "            else:\n",
    "                popped=stack.pop()\n",
    "                if popped!=hash_map[c]:\n",
    "                    return False\n",
    "    return not stack\n",
    "\n",
    "valid_paranthesis([\"[{()}]\"])"
   ]
  },
  {
   "cell_type": "code",
   "execution_count": 8,
   "id": "457b7cf2",
   "metadata": {},
   "outputs": [],
   "source": [
    "class Solution(object):\n",
    "    def isValid(self, s):\n",
    "        \"\"\"\n",
    "        :type s: str\n",
    "        :rtype: bool\n",
    "        \"\"\"\n",
    "        \n",
    "        hash_map={')':'(','}':'{',']':'['}\n",
    "        stack=[]\n",
    "\n",
    "        for c in s:\n",
    "            if c not in hash_map:\n",
    "                stack.append(c)\n",
    "            else:\n",
    "                if not stack:\n",
    "                    return False\n",
    "                else:\n",
    "                    popped=stack.pop()\n",
    "                    if popped!=hash_map[c]:\n",
    "                        return False\n",
    "        return not stack"
   ]
  },
  {
   "cell_type": "code",
   "execution_count": 9,
   "id": "e7537707",
   "metadata": {},
   "outputs": [
    {
     "data": {
      "text/plain": [
       "False"
      ]
     },
     "execution_count": 9,
     "metadata": {},
     "output_type": "execute_result"
    }
   ],
   "source": []
  }
 ],
 "metadata": {
  "kernelspec": {
   "display_name": "Python 3 (ipykernel)",
   "language": "python",
   "name": "python3"
  },
  "language_info": {
   "codemirror_mode": {
    "name": "ipython",
    "version": 3
   },
   "file_extension": ".py",
   "mimetype": "text/x-python",
   "name": "python",
   "nbconvert_exporter": "python",
   "pygments_lexer": "ipython3",
   "version": "3.11.5"
  }
 },
 "nbformat": 4,
 "nbformat_minor": 5
}
